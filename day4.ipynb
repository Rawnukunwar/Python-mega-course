{
 "cells": [
  {
   "cell_type": "markdown",
   "id": "a58bf1b8",
   "metadata": {},
   "source": [
    "# List\n"
   ]
  },
  {
   "cell_type": "code",
   "execution_count": 1,
   "id": "a5b73a1a",
   "metadata": {},
   "outputs": [],
   "source": [
    "#List is a collection of element. let x= big bracket vitra coma le seperated data haru raaknei.e x=[1,2,3,4,..]\n"
   ]
  },
  {
   "cell_type": "code",
   "execution_count": 90,
   "id": "bc66b3ef",
   "metadata": {},
   "outputs": [],
   "source": [
    "x=['Neha','Anisha', 'Bibek','Khadka']\n",
    "\n"
   ]
  },
  {
   "cell_type": "code",
   "execution_count": 10,
   "id": "df142738",
   "metadata": {},
   "outputs": [
    {
     "data": {
      "text/plain": [
       "list"
      ]
     },
     "execution_count": 10,
     "metadata": {},
     "output_type": "execute_result"
    }
   ],
   "source": [
    "type(x)"
   ]
  },
  {
   "cell_type": "code",
   "execution_count": 11,
   "id": "6f02628b",
   "metadata": {},
   "outputs": [
    {
     "data": {
      "text/plain": [
       "'Neha'"
      ]
     },
     "execution_count": 11,
     "metadata": {},
     "output_type": "execute_result"
    }
   ],
   "source": [
    "x[0]"
   ]
  },
  {
   "cell_type": "code",
   "execution_count": 12,
   "id": "36ff2050",
   "metadata": {},
   "outputs": [
    {
     "data": {
      "text/plain": [
       "str"
      ]
     },
     "execution_count": 12,
     "metadata": {},
     "output_type": "execute_result"
    }
   ],
   "source": [
    "type (x[0])"
   ]
  },
  {
   "cell_type": "code",
   "execution_count": 16,
   "id": "6eb5ab9b",
   "metadata": {},
   "outputs": [
    {
     "data": {
      "text/plain": [
       "'Neha Khadka'"
      ]
     },
     "execution_count": 16,
     "metadata": {},
     "output_type": "execute_result"
    }
   ],
   "source": [
    "x[0]+' '+x[3]"
   ]
  },
  {
   "cell_type": "code",
   "execution_count": 18,
   "id": "6bd1034f",
   "metadata": {},
   "outputs": [
    {
     "data": {
      "text/plain": [
       "4"
      ]
     },
     "execution_count": 18,
     "metadata": {},
     "output_type": "execute_result"
    }
   ],
   "source": [
    "len(x)#To print length of list"
   ]
  },
  {
   "cell_type": "code",
   "execution_count": 19,
   "id": "93cec2d0",
   "metadata": {},
   "outputs": [
    {
     "data": {
      "text/plain": [
       "['Bibek', 'Khadka']"
      ]
     },
     "execution_count": 19,
     "metadata": {},
     "output_type": "execute_result"
    }
   ],
   "source": [
    "x[2:4]"
   ]
  },
  {
   "cell_type": "code",
   "execution_count": 59,
   "id": "60b7143a",
   "metadata": {},
   "outputs": [],
   "source": [
    "lst=[]#Empty list"
   ]
  },
  {
   "cell_type": "code",
   "execution_count": 60,
   "id": "f40d46e1",
   "metadata": {},
   "outputs": [],
   "source": [
    "lst.append('Raunak')"
   ]
  },
  {
   "cell_type": "code",
   "execution_count": 61,
   "id": "95af5303",
   "metadata": {},
   "outputs": [
    {
     "name": "stdout",
     "output_type": "stream",
     "text": [
      "['Raunak']\n"
     ]
    }
   ],
   "source": [
    "print(lst)"
   ]
  },
  {
   "cell_type": "code",
   "execution_count": 62,
   "id": "8fdaa81c",
   "metadata": {},
   "outputs": [],
   "source": [
    "lst.append('Bibek')"
   ]
  },
  {
   "cell_type": "code",
   "execution_count": 63,
   "id": "2debb108",
   "metadata": {},
   "outputs": [],
   "source": [
    "lst.append('Manisha')"
   ]
  },
  {
   "cell_type": "code",
   "execution_count": 64,
   "id": "3509d123",
   "metadata": {},
   "outputs": [],
   "source": [
    "lst.append('Krisha')"
   ]
  },
  {
   "cell_type": "code",
   "execution_count": 65,
   "id": "a426904d",
   "metadata": {},
   "outputs": [],
   "source": [
    "lst.append('Neha')"
   ]
  },
  {
   "cell_type": "code",
   "execution_count": 66,
   "id": "d1bf2b26",
   "metadata": {},
   "outputs": [
    {
     "name": "stdout",
     "output_type": "stream",
     "text": [
      "['Raunak', 'Bibek', 'Manisha', 'Krisha', 'Neha']\n"
     ]
    }
   ],
   "source": [
    "print(lst)"
   ]
  },
  {
   "cell_type": "code",
   "execution_count": 67,
   "id": "eb4b8025",
   "metadata": {},
   "outputs": [],
   "source": [
    "lst.insert(1,'Kunwar')#Insert le chai kunai pani position ma naya value raakhna sakinchha"
   ]
  },
  {
   "cell_type": "code",
   "execution_count": 68,
   "id": "bcfb94b5",
   "metadata": {},
   "outputs": [
    {
     "name": "stdout",
     "output_type": "stream",
     "text": [
      "['Raunak', 'Kunwar', 'Bibek', 'Manisha', 'Krisha', 'Neha']\n"
     ]
    }
   ],
   "source": [
    "print(lst)"
   ]
  },
  {
   "cell_type": "code",
   "execution_count": 69,
   "id": "96b54c38",
   "metadata": {},
   "outputs": [],
   "source": [
    "lst.remove('Kunwar')"
   ]
  },
  {
   "cell_type": "code",
   "execution_count": 70,
   "id": "9b2f8467",
   "metadata": {},
   "outputs": [
    {
     "name": "stdout",
     "output_type": "stream",
     "text": [
      "['Raunak', 'Bibek', 'Manisha', 'Krisha', 'Neha']\n"
     ]
    }
   ],
   "source": [
    "print(lst)"
   ]
  },
  {
   "cell_type": "code",
   "execution_count": 71,
   "id": "d5b9dfc4",
   "metadata": {},
   "outputs": [],
   "source": [
    "lst[2]=\"Karki\""
   ]
  },
  {
   "cell_type": "code",
   "execution_count": 58,
   "id": "e1bd845a",
   "metadata": {},
   "outputs": [
    {
     "name": "stdout",
     "output_type": "stream",
     "text": [
      "['Bibek', 'Bibek', 'Karki', 'Neha', 'Raunak', 'Bibek', 'Bibek', 'Krisha', 'Neha']\n"
     ]
    }
   ],
   "source": [
    "print(lst)"
   ]
  },
  {
   "cell_type": "code",
   "execution_count": 72,
   "id": "ce376acf",
   "metadata": {},
   "outputs": [],
   "source": [
    "lst.remove('Bibek')"
   ]
  },
  {
   "cell_type": "code",
   "execution_count": 73,
   "id": "11d83f6b",
   "metadata": {},
   "outputs": [
    {
     "name": "stdout",
     "output_type": "stream",
     "text": [
      "['Raunak', 'Karki', 'Krisha', 'Neha']\n"
     ]
    }
   ],
   "source": [
    "print(lst)"
   ]
  },
  {
   "cell_type": "code",
   "execution_count": 75,
   "id": "9ae81f6c",
   "metadata": {},
   "outputs": [],
   "source": [
    "lst[1]=\"Kunwar\"#To replace any item"
   ]
  },
  {
   "cell_type": "code",
   "execution_count": 77,
   "id": "7e1d295d",
   "metadata": {},
   "outputs": [
    {
     "name": "stdout",
     "output_type": "stream",
     "text": [
      "['Raunak', 'Kunwar', 'Krisha', 'Neha']\n"
     ]
    }
   ],
   "source": [
    "print(lst)"
   ]
  },
  {
   "cell_type": "code",
   "execution_count": 78,
   "id": "6ada199f",
   "metadata": {},
   "outputs": [],
   "source": [
    "lst[0:3]=['Krisha','Silwal','Neha','Khadak']#Dherai element sangai replace garnu paryo vani"
   ]
  },
  {
   "cell_type": "code",
   "execution_count": 79,
   "id": "4ef28b4c",
   "metadata": {},
   "outputs": [
    {
     "name": "stdout",
     "output_type": "stream",
     "text": [
      "['Krisha', 'Silwal', 'Neha', 'Khadak', 'Neha']\n"
     ]
    }
   ],
   "source": [
    "print(lst)"
   ]
  },
  {
   "cell_type": "code",
   "execution_count": 80,
   "id": "826a968f",
   "metadata": {},
   "outputs": [],
   "source": [
    "lst.clear()#Clear all data in list"
   ]
  },
  {
   "cell_type": "code",
   "execution_count": 81,
   "id": "e67f0ec6",
   "metadata": {},
   "outputs": [
    {
     "name": "stdout",
     "output_type": "stream",
     "text": [
      "[]\n"
     ]
    }
   ],
   "source": [
    "print(lst)"
   ]
  },
  {
   "cell_type": "code",
   "execution_count": 91,
   "id": "3062c057",
   "metadata": {},
   "outputs": [
    {
     "name": "stdout",
     "output_type": "stream",
     "text": [
      "['Neha', 'Anisha', 'Bibek', 'Khadka']\n"
     ]
    }
   ],
   "source": [
    "print(x)"
   ]
  },
  {
   "cell_type": "code",
   "execution_count": 92,
   "id": "41a088c6",
   "metadata": {},
   "outputs": [
    {
     "data": {
      "text/plain": [
       "'Khadka'"
      ]
     },
     "execution_count": 92,
     "metadata": {},
     "output_type": "execute_result"
    }
   ],
   "source": [
    "x.pop()#POP vanne method le last ko element lai hataauchha"
   ]
  },
  {
   "cell_type": "code",
   "execution_count": 93,
   "id": "38012481",
   "metadata": {},
   "outputs": [
    {
     "name": "stdout",
     "output_type": "stream",
     "text": [
      "['Neha', 'Anisha', 'Bibek']\n"
     ]
    }
   ],
   "source": [
    "print(x)"
   ]
  },
  {
   "cell_type": "code",
   "execution_count": 96,
   "id": "44e9f21b",
   "metadata": {},
   "outputs": [
    {
     "data": {
      "text/plain": [
       "True"
      ]
     },
     "execution_count": 96,
     "metadata": {},
     "output_type": "execute_result"
    }
   ],
   "source": [
    "'Bibek' in x"
   ]
  },
  {
   "cell_type": "code",
   "execution_count": 97,
   "id": "65490f2a",
   "metadata": {},
   "outputs": [
    {
     "data": {
      "text/plain": [
       "False"
      ]
     },
     "execution_count": 97,
     "metadata": {},
     "output_type": "execute_result"
    }
   ],
   "source": [
    "'Bibek' not in x"
   ]
  },
  {
   "cell_type": "markdown",
   "id": "16944ad9",
   "metadata": {},
   "source": [
    "#Dictonary "
   ]
  },
  {
   "cell_type": "code",
   "execution_count": 100,
   "id": "166f018b",
   "metadata": {},
   "outputs": [],
   "source": [
    "#Dictonary is the collection of key and the value\n",
    "#Kunai pani dictonary lai curly bracket ma raakhinchha ie. {} "
   ]
  },
  {
   "cell_type": "code",
   "execution_count": 113,
   "id": "d7e40f8f",
   "metadata": {},
   "outputs": [],
   "source": [
    "info={'Name': 'Raunak kunwar',\n",
    "      'College': 'Medhavi',\n",
    "      'Semester':'third',\n",
    "      'rollno': 1}"
   ]
  },
  {
   "cell_type": "code",
   "execution_count": 114,
   "id": "c5597837",
   "metadata": {},
   "outputs": [
    {
     "data": {
      "text/plain": [
       "{'Name': 'Raunak kunwar',\n",
       " 'College': 'Medhavi',\n",
       " 'Semester': 'third',\n",
       " 'rollno': 1}"
      ]
     },
     "execution_count": 114,
     "metadata": {},
     "output_type": "execute_result"
    }
   ],
   "source": [
    "info"
   ]
  },
  {
   "cell_type": "code",
   "execution_count": 115,
   "id": "bac748af",
   "metadata": {},
   "outputs": [
    {
     "data": {
      "text/plain": [
       "dict_keys(['Name', 'College', 'Semester', 'rollno'])"
      ]
     },
     "execution_count": 115,
     "metadata": {},
     "output_type": "execute_result"
    }
   ],
   "source": [
    "info.keys()#key matra print garnu paryo vani"
   ]
  },
  {
   "cell_type": "code",
   "execution_count": 116,
   "id": "15c2693b",
   "metadata": {},
   "outputs": [],
   "source": [
    "info['rollno']=5"
   ]
  },
  {
   "cell_type": "code",
   "execution_count": 117,
   "id": "5254bac5",
   "metadata": {},
   "outputs": [
    {
     "name": "stdout",
     "output_type": "stream",
     "text": [
      "{'Name': 'Raunak kunwar', 'College': 'Medhavi', 'Semester': 'third', 'rollno': 5}\n"
     ]
    }
   ],
   "source": [
    "print(info)"
   ]
  },
  {
   "cell_type": "code",
   "execution_count": 118,
   "id": "c66bc829",
   "metadata": {},
   "outputs": [
    {
     "data": {
      "text/plain": [
       "dict_values(['Raunak kunwar', 'Medhavi', 'third', 5])"
      ]
     },
     "execution_count": 118,
     "metadata": {},
     "output_type": "execute_result"
    }
   ],
   "source": [
    "info.values()#Values matra print garnu paryo vani"
   ]
  },
  {
   "cell_type": "code",
   "execution_count": 119,
   "id": "ef706116",
   "metadata": {},
   "outputs": [],
   "source": [
    "info['Remarks']='Topper'#Naya elements thapyo vani\n"
   ]
  },
  {
   "cell_type": "code",
   "execution_count": 120,
   "id": "942bb11b",
   "metadata": {},
   "outputs": [
    {
     "data": {
      "text/plain": [
       "{'Name': 'Raunak kunwar',\n",
       " 'College': 'Medhavi',\n",
       " 'Semester': 'third',\n",
       " 'rollno': 5,\n",
       " 'Remarks': 'Topper'}"
      ]
     },
     "execution_count": 120,
     "metadata": {},
     "output_type": "execute_result"
    }
   ],
   "source": [
    "info"
   ]
  },
  {
   "cell_type": "code",
   "execution_count": 123,
   "id": "08a97a59",
   "metadata": {},
   "outputs": [
    {
     "data": {
      "text/plain": [
       "'Topper'"
      ]
     },
     "execution_count": 123,
     "metadata": {},
     "output_type": "execute_result"
    }
   ],
   "source": [
    "info.pop('Remarks')"
   ]
  },
  {
   "cell_type": "code",
   "execution_count": 124,
   "id": "b408db18",
   "metadata": {},
   "outputs": [
    {
     "name": "stdout",
     "output_type": "stream",
     "text": [
      "{'Name': 'Raunak kunwar', 'College': 'Medhavi', 'Semester': 'third', 'rollno': 5}\n"
     ]
    }
   ],
   "source": [
    "print(info)"
   ]
  },
  {
   "cell_type": "code",
   "execution_count": 131,
   "id": "f689335f",
   "metadata": {},
   "outputs": [],
   "source": [
    "info.update({'Syno':210030})"
   ]
  },
  {
   "cell_type": "code",
   "execution_count": 132,
   "id": "1f173210",
   "metadata": {},
   "outputs": [
    {
     "data": {
      "text/plain": [
       "210030"
      ]
     },
     "execution_count": 132,
     "metadata": {},
     "output_type": "execute_result"
    }
   ],
   "source": [
    "info.get('Syno')"
   ]
  },
  {
   "cell_type": "code",
   "execution_count": 133,
   "id": "81cfe0df",
   "metadata": {},
   "outputs": [
    {
     "name": "stdout",
     "output_type": "stream",
     "text": [
      "{'Name': 'Raunak kunwar', 'College': 'Medhavi', 'Semester': 'third', 'rollno': 5, 'Syno': 210030}\n"
     ]
    }
   ],
   "source": [
    "print(info)"
   ]
  },
  {
   "cell_type": "markdown",
   "id": "94a17a84",
   "metadata": {},
   "source": [
    "# Tuples"
   ]
  },
  {
   "cell_type": "code",
   "execution_count": 140,
   "id": "7335d33f",
   "metadata": {},
   "outputs": [],
   "source": [
    "x=(1,2,3,1,4,5,1,'Hello')#Yo non mutable ho esma deko value change garna mildaina"
   ]
  },
  {
   "cell_type": "code",
   "execution_count": 141,
   "id": "e4c1c7b9",
   "metadata": {},
   "outputs": [
    {
     "data": {
      "text/plain": [
       "3"
      ]
     },
     "execution_count": 141,
     "metadata": {},
     "output_type": "execute_result"
    }
   ],
   "source": [
    "x.count(1)"
   ]
  },
  {
   "cell_type": "code",
   "execution_count": 144,
   "id": "e419fab3",
   "metadata": {},
   "outputs": [
    {
     "data": {
      "text/plain": [
       "2"
      ]
     },
     "execution_count": 144,
     "metadata": {},
     "output_type": "execute_result"
    }
   ],
   "source": [
    "x[1]#Index ma vayeko value dine kaam garchha"
   ]
  },
  {
   "cell_type": "code",
   "execution_count": null,
   "id": "c34bfc5a",
   "metadata": {},
   "outputs": [],
   "source": []
  }
 ],
 "metadata": {
  "kernelspec": {
   "display_name": "Python 3 (ipykernel)",
   "language": "python",
   "name": "python3"
  },
  "language_info": {
   "codemirror_mode": {
    "name": "ipython",
    "version": 3
   },
   "file_extension": ".py",
   "mimetype": "text/x-python",
   "name": "python",
   "nbconvert_exporter": "python",
   "pygments_lexer": "ipython3",
   "version": "3.11.1"
  }
 },
 "nbformat": 4,
 "nbformat_minor": 5
}
