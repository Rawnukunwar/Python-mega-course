{
 "cells": [
  {
   "cell_type": "code",
   "execution_count": 11,
   "id": "70fea059",
   "metadata": {},
   "outputs": [],
   "source": [
    "a=\"Hexcode\""
   ]
  },
  {
   "cell_type": "code",
   "execution_count": 12,
   "id": "87a96a72",
   "metadata": {},
   "outputs": [],
   "source": [
    "b=\"Nepal\""
   ]
  },
  {
   "cell_type": "code",
   "execution_count": 3,
   "id": "c3ebee41",
   "metadata": {},
   "outputs": [],
   "source": [
    "x=a+b"
   ]
  },
  {
   "cell_type": "code",
   "execution_count": 4,
   "id": "ed26c771",
   "metadata": {},
   "outputs": [
    {
     "name": "stdout",
     "output_type": "stream",
     "text": [
      "HexcodeNepal\n"
     ]
    }
   ],
   "source": [
    "print(x)"
   ]
  },
  {
   "cell_type": "code",
   "execution_count": 19,
   "id": "a7c925e1",
   "metadata": {},
   "outputs": [],
   "source": [
    "y=a+ ' ' +b"
   ]
  },
  {
   "cell_type": "code",
   "execution_count": 20,
   "id": "f23fb9dd",
   "metadata": {},
   "outputs": [
    {
     "name": "stdout",
     "output_type": "stream",
     "text": [
      "Hexcode Nepal\n"
     ]
    }
   ],
   "source": [
    "print(y)"
   ]
  },
  {
   "cell_type": "code",
   "execution_count": 1,
   "id": "71952826",
   "metadata": {},
   "outputs": [
    {
     "name": "stdout",
     "output_type": "stream",
     "text": [
      "First Name:Raunak\n"
     ]
    }
   ],
   "source": [
    "fname=input(\"First Name:\")"
   ]
  },
  {
   "cell_type": "code",
   "execution_count": 4,
   "id": "880852ab",
   "metadata": {},
   "outputs": [
    {
     "name": "stdout",
     "output_type": "stream",
     "text": [
      "Last name:Kunwar\n"
     ]
    }
   ],
   "source": [
    "lname=input(\"Last name:\")"
   ]
  },
  {
   "cell_type": "code",
   "execution_count": 5,
   "id": "0619e374",
   "metadata": {},
   "outputs": [
    {
     "name": "stdout",
     "output_type": "stream",
     "text": [
      "Your name is Raunak Kunwar\n"
     ]
    }
   ],
   "source": [
    "print('Your name is ' +fname+' '+lname)"
   ]
  },
  {
   "cell_type": "code",
   "execution_count": 17,
   "id": "c6330980",
   "metadata": {},
   "outputs": [
    {
     "name": "stdout",
     "output_type": "stream",
     "text": [
      "Enter first number: 20\n"
     ]
    }
   ],
   "source": [
    "num1= float (input(\"Enter first number: \"))"
   ]
  },
  {
   "cell_type": "code",
   "execution_count": 18,
   "id": "a726d22e",
   "metadata": {},
   "outputs": [
    {
     "name": "stdout",
     "output_type": "stream",
     "text": [
      "Enter second number: 20.5\n"
     ]
    }
   ],
   "source": [
    "num2=float (input(\"Enter second number: \"))"
   ]
  },
  {
   "cell_type": "code",
   "execution_count": 19,
   "id": "2fa6a77f",
   "metadata": {},
   "outputs": [],
   "source": [
    "sum1= num1+num2"
   ]
  },
  {
   "cell_type": "code",
   "execution_count": 20,
   "id": "cba869ab",
   "metadata": {},
   "outputs": [
    {
     "data": {
      "text/plain": [
       "40.5"
      ]
     },
     "execution_count": 20,
     "metadata": {},
     "output_type": "execute_result"
    }
   ],
   "source": [
    "sum1\n"
   ]
  },
  {
   "cell_type": "code",
   "execution_count": 21,
   "id": "230bba91",
   "metadata": {},
   "outputs": [],
   "source": [
    "sum1=num1-num2"
   ]
  },
  {
   "cell_type": "code",
   "execution_count": 22,
   "id": "06e432f6",
   "metadata": {},
   "outputs": [
    {
     "name": "stdout",
     "output_type": "stream",
     "text": [
      "-0.5\n"
     ]
    }
   ],
   "source": [
    "print(sum1)"
   ]
  },
  {
   "cell_type": "code",
   "execution_count": 23,
   "id": "2c977916",
   "metadata": {},
   "outputs": [],
   "source": [
    "mul=num1*num2"
   ]
  },
  {
   "cell_type": "code",
   "execution_count": 24,
   "id": "77461018",
   "metadata": {},
   "outputs": [
    {
     "name": "stdout",
     "output_type": "stream",
     "text": [
      "410.0\n"
     ]
    }
   ],
   "source": [
    "print(mul)"
   ]
  },
  {
   "cell_type": "code",
   "execution_count": 25,
   "id": "7d04990a",
   "metadata": {},
   "outputs": [],
   "source": [
    "div=num1/num2"
   ]
  },
  {
   "cell_type": "code",
   "execution_count": 26,
   "id": "bf963e16",
   "metadata": {},
   "outputs": [
    {
     "name": "stdout",
     "output_type": "stream",
     "text": [
      "0.975609756097561\n"
     ]
    }
   ],
   "source": [
    "print(div)"
   ]
  },
  {
   "cell_type": "code",
   "execution_count": 27,
   "id": "d61e2158",
   "metadata": {},
   "outputs": [
    {
     "name": "stdout",
     "output_type": "stream",
     "text": [
      "The product is :  410.0\n"
     ]
    }
   ],
   "source": [
    "print(\"The product is : \", mul)"
   ]
  },
  {
   "cell_type": "code",
   "execution_count": 31,
   "id": "b15ae499",
   "metadata": {},
   "outputs": [],
   "source": [
    "power=num1**num2\n"
   ]
  },
  {
   "cell_type": "code",
   "execution_count": 32,
   "id": "934730e6",
   "metadata": {},
   "outputs": [
    {
     "name": "stdout",
     "output_type": "stream",
     "text": [
      "The power of num1 to num2 is: 4.689374431149639e+26\n"
     ]
    }
   ],
   "source": [
    "print(\"The power of num1 to num2 is:\",power)"
   ]
  },
  {
   "cell_type": "markdown",
   "id": "57ee8b43",
   "metadata": {},
   "source": [
    "a1=4\n",
    "b1=2"
   ]
  },
  {
   "cell_type": "code",
   "execution_count": 41,
   "id": "8bcf6cf9",
   "metadata": {},
   "outputs": [
    {
     "ename": "NameError",
     "evalue": "name 'a1' is not defined",
     "output_type": "error",
     "traceback": [
      "\u001b[1;31m---------------------------------------------------------------------------\u001b[0m",
      "\u001b[1;31mNameError\u001b[0m                                 Traceback (most recent call last)",
      "Cell \u001b[1;32mIn[41], line 1\u001b[0m\n\u001b[1;32m----> 1\u001b[0m div\u001b[38;5;241m=\u001b[39m\u001b[38;5;28mint\u001b[39m(\u001b[43ma1\u001b[49m)\u001b[38;5;241m/\u001b[39m\u001b[38;5;28mint\u001b[39m(b1)\n",
      "\u001b[1;31mNameError\u001b[0m: name 'a1' is not defined"
     ]
    }
   ],
   "source": [
    "div=int(a1)/int(b1)"
   ]
  },
  {
   "cell_type": "code",
   "execution_count": null,
   "id": "03371513",
   "metadata": {},
   "outputs": [],
   "source": []
  }
 ],
 "metadata": {
  "kernelspec": {
   "display_name": "Python 3 (ipykernel)",
   "language": "python",
   "name": "python3"
  },
  "language_info": {
   "codemirror_mode": {
    "name": "ipython",
    "version": 3
   },
   "file_extension": ".py",
   "mimetype": "text/x-python",
   "name": "python",
   "nbconvert_exporter": "python",
   "pygments_lexer": "ipython3",
   "version": "3.11.1"
  }
 },
 "nbformat": 4,
 "nbformat_minor": 5
}
