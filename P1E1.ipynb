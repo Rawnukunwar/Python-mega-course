{
 "cells": [
  {
   "cell_type": "code",
   "execution_count": 12,
   "id": "31a08974",
   "metadata": {},
   "outputs": [
    {
     "name": "stdout",
     "output_type": "stream",
     "text": [
      "Enter you name: Raunak Kunwar\n"
     ]
    }
   ],
   "source": [
    "name=input(\"Enter you name: \")"
   ]
  },
  {
   "cell_type": "code",
   "execution_count": 7,
   "id": "ae713c21",
   "metadata": {},
   "outputs": [
    {
     "name": "stdout",
     "output_type": "stream",
     "text": [
      "Enter your roll-no: 12\n"
     ]
    }
   ],
   "source": [
    "rollno=input(\"Enter your roll-no: \")"
   ]
  },
  {
   "cell_type": "code",
   "execution_count": 11,
   "id": "cbdc298c",
   "metadata": {},
   "outputs": [
    {
     "name": "stdout",
     "output_type": "stream",
     "text": [
      "Your name is:  Raunak KUnwar and roll-no is: 12\n"
     ]
    }
   ],
   "source": [
    "print(\"Your name is: \",name+\" and roll-no is:\",rollno)"
   ]
  },
  {
   "cell_type": "code",
   "execution_count": 13,
   "id": "01c7fe8b",
   "metadata": {},
   "outputs": [
    {
     "name": "stdout",
     "output_type": "stream",
     "text": [
      "Enter any number:2\n"
     ]
    }
   ],
   "source": [
    "a=input(\"Enter any number:\")"
   ]
  },
  {
   "cell_type": "code",
   "execution_count": 15,
   "id": "e8a2c86c",
   "metadata": {},
   "outputs": [
    {
     "name": "stdout",
     "output_type": "stream",
     "text": [
      "Enter another number:5\n"
     ]
    }
   ],
   "source": [
    "b=input(\"Enter another number:\")"
   ]
  },
  {
   "cell_type": "code",
   "execution_count": 17,
   "id": "048719fe",
   "metadata": {},
   "outputs": [
    {
     "name": "stdout",
     "output_type": "stream",
     "text": [
      "Sum is: 7\n"
     ]
    }
   ],
   "source": [
    "print(\"Sum is:\",int(a)+int(b))"
   ]
  },
  {
   "cell_type": "code",
   "execution_count": 18,
   "id": "77770e17",
   "metadata": {},
   "outputs": [
    {
     "name": "stdout",
     "output_type": "stream",
     "text": [
      "Enter any number: 24\n"
     ]
    }
   ],
   "source": [
    "x=input(\"Enter any number: \")"
   ]
  },
  {
   "cell_type": "code",
   "execution_count": 22,
   "id": "c8d609a6",
   "metadata": {},
   "outputs": [
    {
     "name": "stdout",
     "output_type": "stream",
     "text": [
      "Enter another number: 13\n"
     ]
    }
   ],
   "source": [
    "y=input(\"Enter another number: \")"
   ]
  },
  {
   "cell_type": "code",
   "execution_count": 23,
   "id": "330f90c9",
   "metadata": {},
   "outputs": [
    {
     "name": "stdout",
     "output_type": "stream",
     "text": [
      "Integer part of division of the numer is: 1\n"
     ]
    }
   ],
   "source": [
    "print(\"Integer part of division of the numer is:\", int(x)//int(y))"
   ]
  },
  {
   "cell_type": "code",
   "execution_count": null,
   "id": "9343ea42",
   "metadata": {},
   "outputs": [],
   "source": []
  }
 ],
 "metadata": {
  "kernelspec": {
   "display_name": "Python 3 (ipykernel)",
   "language": "python",
   "name": "python3"
  },
  "language_info": {
   "codemirror_mode": {
    "name": "ipython",
    "version": 3
   },
   "file_extension": ".py",
   "mimetype": "text/x-python",
   "name": "python",
   "nbconvert_exporter": "python",
   "pygments_lexer": "ipython3",
   "version": "3.11.1"
  }
 },
 "nbformat": 4,
 "nbformat_minor": 5
}
