{
 "cells": [
  {
   "cell_type": "markdown",
   "id": "32c1b151",
   "metadata": {},
   "source": [
    "# Tuples"
   ]
  },
  {
   "cell_type": "code",
   "execution_count": 1,
   "id": "87bc4bf3",
   "metadata": {},
   "outputs": [],
   "source": [
    "#List ma duplicate elements haru raakhna milchha tuples ma ni milchha"
   ]
  },
  {
   "cell_type": "code",
   "execution_count": 2,
   "id": "40acc712",
   "metadata": {},
   "outputs": [],
   "source": [
    "x=(1,2,3,1,4,5,1,'Hello')"
   ]
  },
  {
   "cell_type": "code",
   "execution_count": 4,
   "id": "3ebbdd4e",
   "metadata": {},
   "outputs": [],
   "source": [
    "fruits=('apple', 'mango', 'banana', 'apple')"
   ]
  },
  {
   "cell_type": "code",
   "execution_count": 5,
   "id": "f3be4a8c",
   "metadata": {},
   "outputs": [
    {
     "data": {
      "text/plain": [
       "4"
      ]
     },
     "execution_count": 5,
     "metadata": {},
     "output_type": "execute_result"
    }
   ],
   "source": [
    "len(fruits)"
   ]
  },
  {
   "cell_type": "code",
   "execution_count": 6,
   "id": "9b77ef8f",
   "metadata": {},
   "outputs": [
    {
     "data": {
      "text/plain": [
       "(3, 1, 4)"
      ]
     },
     "execution_count": 6,
     "metadata": {},
     "output_type": "execute_result"
    }
   ],
   "source": [
    "x[2:5]"
   ]
  },
  {
   "cell_type": "code",
   "execution_count": 7,
   "id": "3c52b2b9",
   "metadata": {},
   "outputs": [
    {
     "data": {
      "text/plain": [
       "3"
      ]
     },
     "execution_count": 7,
     "metadata": {},
     "output_type": "execute_result"
    }
   ],
   "source": [
    "x[2]"
   ]
  },
  {
   "cell_type": "code",
   "execution_count": 8,
   "id": "a5532b83",
   "metadata": {},
   "outputs": [],
   "source": [
    "#converting tuples int list"
   ]
  },
  {
   "cell_type": "code",
   "execution_count": 9,
   "id": "2b6d3dbe",
   "metadata": {},
   "outputs": [],
   "source": [
    "a=list(fruits)"
   ]
  },
  {
   "cell_type": "code",
   "execution_count": 10,
   "id": "87af7951",
   "metadata": {},
   "outputs": [
    {
     "name": "stdout",
     "output_type": "stream",
     "text": [
      "['apple', 'mango', 'banana', 'apple']\n"
     ]
    }
   ],
   "source": [
    "print(a)"
   ]
  },
  {
   "cell_type": "code",
   "execution_count": 12,
   "id": "6946f974",
   "metadata": {},
   "outputs": [],
   "source": [
    "a[2]='apples'"
   ]
  },
  {
   "cell_type": "code",
   "execution_count": 14,
   "id": "2182d877",
   "metadata": {},
   "outputs": [
    {
     "name": "stdout",
     "output_type": "stream",
     "text": [
      "['apple', 'mango', 'apples', 'apple']\n"
     ]
    }
   ],
   "source": [
    "print(a)#banana chai apples ma change vako chha"
   ]
  },
  {
   "cell_type": "code",
   "execution_count": 15,
   "id": "ddc8428c",
   "metadata": {},
   "outputs": [],
   "source": [
    "#tuple vitra list, dictonary raakhna milchha even object mi raakhna sakchha"
   ]
  },
  {
   "cell_type": "code",
   "execution_count": 18,
   "id": "e2dc5b1f",
   "metadata": {},
   "outputs": [],
   "source": [
    "p=('Raunak',)#Single element vako tuple banauna paryo vane last ma euta coma chhoddine"
   ]
  },
  {
   "cell_type": "code",
   "execution_count": 19,
   "id": "d0ccc6fc",
   "metadata": {},
   "outputs": [
    {
     "data": {
      "text/plain": [
       "tuple"
      ]
     },
     "execution_count": 19,
     "metadata": {},
     "output_type": "execute_result"
    }
   ],
   "source": [
    "type(p)"
   ]
  },
  {
   "cell_type": "markdown",
   "id": "dd6a9d11",
   "metadata": {},
   "source": [
    "# SET"
   ]
  },
  {
   "cell_type": "code",
   "execution_count": 20,
   "id": "99b42239",
   "metadata": {},
   "outputs": [],
   "source": [
    "s1={1,2,3,4,5,6}#Set pani immutable ho"
   ]
  },
  {
   "cell_type": "code",
   "execution_count": 22,
   "id": "ab574be7",
   "metadata": {},
   "outputs": [
    {
     "data": {
      "text/plain": [
       "set"
      ]
     },
     "execution_count": 22,
     "metadata": {},
     "output_type": "execute_result"
    }
   ],
   "source": [
    "type(s1)"
   ]
  },
  {
   "cell_type": "code",
   "execution_count": 26,
   "id": "ad36038b",
   "metadata": {},
   "outputs": [],
   "source": [
    "s2={1, 2, 2, 2, 3, 4, 5, 6, 6}"
   ]
  },
  {
   "cell_type": "code",
   "execution_count": 28,
   "id": "458a32db",
   "metadata": {},
   "outputs": [
    {
     "name": "stdout",
     "output_type": "stream",
     "text": [
      "{1, 2, 3, 4, 5, 6}\n"
     ]
    }
   ],
   "source": [
    "print(s2)#Set le duplictae value haru print gardaina"
   ]
  },
  {
   "cell_type": "code",
   "execution_count": 29,
   "id": "00e45244",
   "metadata": {},
   "outputs": [],
   "source": [
    "s2.remove(2)"
   ]
  },
  {
   "cell_type": "code",
   "execution_count": 30,
   "id": "26bee433",
   "metadata": {},
   "outputs": [
    {
     "name": "stdout",
     "output_type": "stream",
     "text": [
      "{1, 3, 4, 5, 6}\n"
     ]
    }
   ],
   "source": [
    "print(s2)"
   ]
  },
  {
   "cell_type": "code",
   "execution_count": 31,
   "id": "a029b962",
   "metadata": {},
   "outputs": [
    {
     "name": "stdout",
     "output_type": "stream",
     "text": [
      "1\n",
      "3\n",
      "4\n",
      "5\n",
      "6\n"
     ]
    }
   ],
   "source": [
    "for i in s2:#Set ma vako element lai access garna using loop\n",
    "    print(i)"
   ]
  },
  {
   "cell_type": "code",
   "execution_count": 37,
   "id": "f58a6c71",
   "metadata": {},
   "outputs": [],
   "source": [
    "s2.add('hi')"
   ]
  },
  {
   "cell_type": "code",
   "execution_count": 38,
   "id": "811707f6",
   "metadata": {},
   "outputs": [
    {
     "name": "stdout",
     "output_type": "stream",
     "text": [
      "{1, 3, 4, 5, 6, 'hi'}\n"
     ]
    }
   ],
   "source": [
    "print(s2)"
   ]
  },
  {
   "cell_type": "code",
   "execution_count": 40,
   "id": "f4e34a5d",
   "metadata": {},
   "outputs": [],
   "source": [
    "q=list(s2)"
   ]
  },
  {
   "cell_type": "code",
   "execution_count": 41,
   "id": "856ff7a3",
   "metadata": {},
   "outputs": [
    {
     "name": "stdout",
     "output_type": "stream",
     "text": [
      "[1, 3, 4, 5, 6, 'hi']\n"
     ]
    }
   ],
   "source": [
    "print(q)"
   ]
  },
  {
   "cell_type": "code",
   "execution_count": 42,
   "id": "f2455d02",
   "metadata": {},
   "outputs": [],
   "source": [
    "q[5]='Hello world'"
   ]
  },
  {
   "cell_type": "code",
   "execution_count": 43,
   "id": "6ab724b3",
   "metadata": {},
   "outputs": [
    {
     "name": "stdout",
     "output_type": "stream",
     "text": [
      "[1, 3, 4, 5, 6, 'Hello world']\n"
     ]
    }
   ],
   "source": [
    "print(q)"
   ]
  },
  {
   "cell_type": "code",
   "execution_count": 44,
   "id": "3d1d942c",
   "metadata": {},
   "outputs": [],
   "source": [
    "s2=set(q)"
   ]
  },
  {
   "cell_type": "markdown",
   "id": "45c2b725",
   "metadata": {},
   "source": [
    "# IF ELSE STATEMENT"
   ]
  },
  {
   "cell_type": "code",
   "execution_count": 46,
   "id": "607d5afa",
   "metadata": {},
   "outputs": [
    {
     "name": "stdout",
     "output_type": "stream",
     "text": [
      "Enter the positive integer: 45\n",
      "Odd Number\n"
     ]
    }
   ],
   "source": [
    "n=int(input(\"Enter the positive integer: \"))\n",
    "if(n%2==0):\n",
    "    print(\"Even Number\")\n",
    "else:\n",
    "    print(\"Odd Number\")"
   ]
  },
  {
   "cell_type": "markdown",
   "id": "52c14b5e",
   "metadata": {},
   "source": [
    "# Exercise: \n",
    "1 Take input from user\n"
   ]
  },
  {
   "cell_type": "code",
   "execution_count": 54,
   "id": "000d2f46",
   "metadata": {},
   "outputs": [
    {
     "name": "stdout",
     "output_type": "stream",
     "text": [
      "Enter the marks: 45.2\n",
      "Second Division\n"
     ]
    }
   ],
   "source": [
    "marks =float(input(\"Enter the marks: \"))\n",
    "if(marks>=80 and marks<=100):\n",
    "    print(\"Distinction\")\n",
    "elif(marks>=60 and marks<80):\n",
    "    print(\"First Division\")\n",
    "elif(marks>=40 and marks<60):\n",
    "    print(\"Second Division\")\n",
    "elif(marks<40):\n",
    "    print(\"Kaam chhaina\")\n",
    "else:\n",
    "    print(\"Invalid marks\")\n"
   ]
  },
  {
   "cell_type": "code",
   "execution_count": null,
   "id": "4ba44968",
   "metadata": {},
   "outputs": [],
   "source": []
  }
 ],
 "metadata": {
  "kernelspec": {
   "display_name": "Python 3 (ipykernel)",
   "language": "python",
   "name": "python3"
  },
  "language_info": {
   "codemirror_mode": {
    "name": "ipython",
    "version": 3
   },
   "file_extension": ".py",
   "mimetype": "text/x-python",
   "name": "python",
   "nbconvert_exporter": "python",
   "pygments_lexer": "ipython3",
   "version": "3.11.1"
  }
 },
 "nbformat": 4,
 "nbformat_minor": 5
}
