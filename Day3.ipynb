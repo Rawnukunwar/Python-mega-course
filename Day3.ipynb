{
 "cells": [
  {
   "cell_type": "code",
   "execution_count": 1,
   "id": "4dde4695",
   "metadata": {},
   "outputs": [
    {
     "name": "stdout",
     "output_type": "stream",
     "text": [
      "Enter the first number5\n",
      "Enter the second number5\n"
     ]
    }
   ],
   "source": [
    "x=float(input(\"Enter the first number\"))\n",
    "y=float(input(\"Enter the second number\"))"
   ]
  },
  {
   "cell_type": "code",
   "execution_count": 6,
   "id": "29b2cd50",
   "metadata": {},
   "outputs": [],
   "source": [
    "x+=4#This is x=x-5          #These are assignment operator"
   ]
  },
  {
   "cell_type": "code",
   "execution_count": 7,
   "id": "a46f6425",
   "metadata": {},
   "outputs": [
    {
     "name": "stdout",
     "output_type": "stream",
     "text": [
      "8.0\n"
     ]
    }
   ],
   "source": [
    "print(x)"
   ]
  },
  {
   "cell_type": "code",
   "execution_count": 8,
   "id": "3629226e",
   "metadata": {},
   "outputs": [],
   "source": [
    "x-=5"
   ]
  },
  {
   "cell_type": "code",
   "execution_count": 9,
   "id": "a4cf2b59",
   "metadata": {},
   "outputs": [
    {
     "name": "stdout",
     "output_type": "stream",
     "text": [
      "3.0\n"
     ]
    }
   ],
   "source": [
    "print(x)"
   ]
  },
  {
   "cell_type": "code",
   "execution_count": 16,
   "id": "719914d9",
   "metadata": {},
   "outputs": [],
   "source": [
    "x*=4"
   ]
  },
  {
   "cell_type": "code",
   "execution_count": 18,
   "id": "fe622aba",
   "metadata": {},
   "outputs": [
    {
     "name": "stdout",
     "output_type": "stream",
     "text": [
      "256.0\n"
     ]
    }
   ],
   "source": [
    "print(x)"
   ]
  },
  {
   "cell_type": "code",
   "execution_count": 19,
   "id": "55003a87",
   "metadata": {},
   "outputs": [],
   "source": [
    "#Comparison operators"
   ]
  },
  {
   "cell_type": "code",
   "execution_count": 20,
   "id": "d9b96918",
   "metadata": {},
   "outputs": [],
   "source": [
    "a=4"
   ]
  },
  {
   "cell_type": "code",
   "execution_count": 21,
   "id": "7e00c3bc",
   "metadata": {},
   "outputs": [],
   "source": [
    "b=4"
   ]
  },
  {
   "cell_type": "code",
   "execution_count": 22,
   "id": "20ffb46e",
   "metadata": {},
   "outputs": [
    {
     "data": {
      "text/plain": [
       "True"
      ]
     },
     "execution_count": 22,
     "metadata": {},
     "output_type": "execute_result"
    }
   ],
   "source": [
    "a==b"
   ]
  },
  {
   "cell_type": "code",
   "execution_count": 23,
   "id": "cc335d95",
   "metadata": {},
   "outputs": [
    {
     "data": {
      "text/plain": [
       "False"
      ]
     },
     "execution_count": 23,
     "metadata": {},
     "output_type": "execute_result"
    }
   ],
   "source": [
    "a>b"
   ]
  },
  {
   "cell_type": "code",
   "execution_count": 24,
   "id": "7ca5cffb",
   "metadata": {},
   "outputs": [
    {
     "data": {
      "text/plain": [
       "False"
      ]
     },
     "execution_count": 24,
     "metadata": {},
     "output_type": "execute_result"
    }
   ],
   "source": [
    "a!=b"
   ]
  },
  {
   "cell_type": "code",
   "execution_count": 25,
   "id": "97acaa4e",
   "metadata": {},
   "outputs": [
    {
     "data": {
      "text/plain": [
       "True"
      ]
     },
     "execution_count": 25,
     "metadata": {},
     "output_type": "execute_result"
    }
   ],
   "source": [
    "a>=b"
   ]
  },
  {
   "cell_type": "code",
   "execution_count": 29,
   "id": "b1c22a0b",
   "metadata": {},
   "outputs": [
    {
     "data": {
      "text/plain": [
       "True"
      ]
     },
     "execution_count": 29,
     "metadata": {},
     "output_type": "execute_result"
    }
   ],
   "source": [
    "a<=b"
   ]
  },
  {
   "cell_type": "code",
   "execution_count": 30,
   "id": "86e7fb69",
   "metadata": {},
   "outputs": [
    {
     "name": "stdout",
     "output_type": "stream",
     "text": [
      "This is true\n"
     ]
    }
   ],
   "source": [
    "if(a==b):\n",
    "    print(\"This is true\")\n",
    "else:\n",
    "    print(\"You are wrong\")"
   ]
  },
  {
   "cell_type": "code",
   "execution_count": 31,
   "id": "48406590",
   "metadata": {},
   "outputs": [],
   "source": [
    "#logical operator and or not"
   ]
  },
  {
   "cell_type": "code",
   "execution_count": 33,
   "id": "e01573fe",
   "metadata": {},
   "outputs": [
    {
     "data": {
      "text/plain": [
       "True"
      ]
     },
     "execution_count": 33,
     "metadata": {},
     "output_type": "execute_result"
    }
   ],
   "source": [
    "2==2 and 1<2#And operator esko laagi chai duetai true huna parchha"
   ]
  },
  {
   "cell_type": "code",
   "execution_count": 35,
   "id": "48175e22",
   "metadata": {},
   "outputs": [
    {
     "data": {
      "text/plain": [
       "False"
      ]
     },
     "execution_count": 35,
     "metadata": {},
     "output_type": "execute_result"
    }
   ],
   "source": [
    "2==3 or 4==5#Or operator euta matra true vaye ni true dinchha result"
   ]
  },
  {
   "cell_type": "code",
   "execution_count": 36,
   "id": "184d8ed9",
   "metadata": {},
   "outputs": [
    {
     "data": {
      "text/plain": [
       "False"
      ]
     },
     "execution_count": 36,
     "metadata": {},
     "output_type": "execute_result"
    }
   ],
   "source": [
    "not(2==2 and 1<2)#Not operator change the result true to false and false to true"
   ]
  },
  {
   "cell_type": "markdown",
   "id": "c7156696",
   "metadata": {},
   "source": [
    "# Data Types"
   ]
  },
  {
   "cell_type": "code",
   "execution_count": 37,
   "id": "c4091693",
   "metadata": {},
   "outputs": [],
   "source": [
    "x=\"I am a python developer\""
   ]
  },
  {
   "cell_type": "code",
   "execution_count": 38,
   "id": "1eb66ad7",
   "metadata": {},
   "outputs": [
    {
     "data": {
      "text/plain": [
       "23"
      ]
     },
     "execution_count": 38,
     "metadata": {},
     "output_type": "execute_result"
    }
   ],
   "source": [
    "len(x)"
   ]
  },
  {
   "cell_type": "code",
   "execution_count": 41,
   "id": "6699e1cc",
   "metadata": {},
   "outputs": [
    {
     "data": {
      "text/plain": [
       "'python'"
      ]
     },
     "execution_count": 41,
     "metadata": {},
     "output_type": "execute_result"
    }
   ],
   "source": [
    "x[7:13]#Matthi assign gareko string ko letter haru print garchha inc. white character"
   ]
  },
  {
   "cell_type": "code",
   "execution_count": 43,
   "id": "f8bd9e6d",
   "metadata": {},
   "outputs": [
    {
     "data": {
      "text/plain": [
       "'developer'"
      ]
     },
     "execution_count": 43,
     "metadata": {},
     "output_type": "execute_result"
    }
   ],
   "source": [
    "x[14:23]"
   ]
  },
  {
   "cell_type": "code",
   "execution_count": 52,
   "id": "8f532104",
   "metadata": {},
   "outputs": [
    {
     "data": {
      "text/plain": [
       "'python developer'"
      ]
     },
     "execution_count": 52,
     "metadata": {},
     "output_type": "execute_result"
    }
   ],
   "source": [
    "x[7::]# 7pachhi ko sabai print hunchha"
   ]
  },
  {
   "cell_type": "code",
   "execution_count": 60,
   "id": "e48d0e6a",
   "metadata": {},
   "outputs": [
    {
     "data": {
      "text/plain": [
       "'repoleved nohtyp a ma I'"
      ]
     },
     "execution_count": 60,
     "metadata": {},
     "output_type": "execute_result"
    }
   ],
   "source": [
    "x[::-1]#String lai reverse print garna"
   ]
  },
  {
   "cell_type": "code",
   "execution_count": 61,
   "id": "9a75ec31",
   "metadata": {},
   "outputs": [
    {
     "name": "stdout",
     "output_type": "stream",
     "text": [
      "Enter the string:rawnukunwar\n"
     ]
    }
   ],
   "source": [
    "a=input(\"Enter the string:\")"
   ]
  },
  {
   "cell_type": "code",
   "execution_count": 62,
   "id": "a6281573",
   "metadata": {},
   "outputs": [
    {
     "data": {
      "text/plain": [
       "'rawnukunwar'"
      ]
     },
     "execution_count": 62,
     "metadata": {},
     "output_type": "execute_result"
    }
   ],
   "source": [
    "a[::-1]"
   ]
  },
  {
   "cell_type": "code",
   "execution_count": 65,
   "id": "9f67ed18",
   "metadata": {},
   "outputs": [],
   "source": [
    "y=x.split()"
   ]
  },
  {
   "cell_type": "code",
   "execution_count": 69,
   "id": "d21827f9",
   "metadata": {},
   "outputs": [
    {
     "name": "stdout",
     "output_type": "stream",
     "text": [
      "['I', 'am', 'a', 'python', 'developer']\n"
     ]
    }
   ],
   "source": [
    "print(y)"
   ]
  },
  {
   "cell_type": "code",
   "execution_count": 71,
   "id": "704a7bb6",
   "metadata": {},
   "outputs": [],
   "source": [
    "p= \"I/am/a/python/developer\""
   ]
  },
  {
   "cell_type": "code",
   "execution_count": 75,
   "id": "a21ec009",
   "metadata": {},
   "outputs": [],
   "source": [
    "q=p.split('/')"
   ]
  },
  {
   "cell_type": "code",
   "execution_count": 76,
   "id": "c6a931ae",
   "metadata": {},
   "outputs": [
    {
     "name": "stdout",
     "output_type": "stream",
     "text": [
      "['I', 'am', 'a', 'python', 'developer']\n"
     ]
    }
   ],
   "source": [
    "print(q)"
   ]
  },
  {
   "cell_type": "code",
   "execution_count": 78,
   "id": "d3225b8a",
   "metadata": {},
   "outputs": [],
   "source": [
    "m=\"A quick brown fox jumps over the lazy dog\""
   ]
  },
  {
   "cell_type": "code",
   "execution_count": 81,
   "id": "bcc94795",
   "metadata": {},
   "outputs": [
    {
     "data": {
      "text/plain": [
       "2"
      ]
     },
     "execution_count": 81,
     "metadata": {},
     "output_type": "execute_result"
    }
   ],
   "source": [
    "a.count('a')"
   ]
  },
  {
   "cell_type": "code",
   "execution_count": 85,
   "id": "deba626d",
   "metadata": {},
   "outputs": [
    {
     "data": {
      "text/plain": [
       "'M'"
      ]
     },
     "execution_count": 85,
     "metadata": {},
     "output_type": "execute_result"
    }
   ],
   "source": [
    "str.capitalize('m')"
   ]
  },
  {
   "cell_type": "code",
   "execution_count": 88,
   "id": "85c356d5",
   "metadata": {},
   "outputs": [
    {
     "data": {
      "text/plain": [
       "'                             A quick brown fox jumps over the lazy dog                              '"
      ]
     },
     "execution_count": 88,
     "metadata": {},
     "output_type": "execute_result"
    }
   ],
   "source": [
    "m.center(100)"
   ]
  },
  {
   "cell_type": "code",
   "execution_count": 90,
   "id": "b9540891",
   "metadata": {},
   "outputs": [
    {
     "ename": "LookupError",
     "evalue": "unknown encoding: m",
     "output_type": "error",
     "traceback": [
      "\u001b[1;31m---------------------------------------------------------------------------\u001b[0m",
      "\u001b[1;31mLookupError\u001b[0m                               Traceback (most recent call last)",
      "Cell \u001b[1;32mIn[90], line 1\u001b[0m\n\u001b[1;32m----> 1\u001b[0m \u001b[43mm\u001b[49m\u001b[38;5;241;43m.\u001b[39;49m\u001b[43mencode\u001b[49m\u001b[43m(\u001b[49m\u001b[38;5;124;43m'\u001b[39;49m\u001b[38;5;124;43mm\u001b[39;49m\u001b[38;5;124;43m'\u001b[39;49m\u001b[43m)\u001b[49m\n",
      "\u001b[1;31mLookupError\u001b[0m: unknown encoding: m"
     ]
    }
   ],
   "source": [
    "m.encode('m')"
   ]
  },
  {
   "cell_type": "markdown",
   "id": "44798458",
   "metadata": {},
   "source": [
    "# Example of elif"
   ]
  },
  {
   "cell_type": "code",
   "execution_count": 99,
   "id": "7ceb2bd8",
   "metadata": {},
   "outputs": [
    {
     "name": "stdout",
     "output_type": "stream",
     "text": [
      "Enter any number:0\n"
     ]
    }
   ],
   "source": [
    "x=int (input(\"Enter any number:\"))"
   ]
  },
  {
   "cell_type": "code",
   "execution_count": 100,
   "id": "812c344b",
   "metadata": {},
   "outputs": [
    {
     "name": "stdout",
     "output_type": "stream",
     "text": [
      "The number is both\n"
     ]
    }
   ],
   "source": [
    "if(x>0):\n",
    "    print(\"The number is positive\")\n",
    "elif(x<0):\n",
    "    print(\"The number is negative\")\n",
    "else:\n",
    "    print(\"The number is both\")\n"
   ]
  },
  {
   "cell_type": "code",
   "execution_count": null,
   "id": "7ecd0899",
   "metadata": {},
   "outputs": [],
   "source": []
  }
 ],
 "metadata": {
  "kernelspec": {
   "display_name": "Python 3 (ipykernel)",
   "language": "python",
   "name": "python3"
  },
  "language_info": {
   "codemirror_mode": {
    "name": "ipython",
    "version": 3
   },
   "file_extension": ".py",
   "mimetype": "text/x-python",
   "name": "python",
   "nbconvert_exporter": "python",
   "pygments_lexer": "ipython3",
   "version": "3.11.1"
  }
 },
 "nbformat": 4,
 "nbformat_minor": 5
}
